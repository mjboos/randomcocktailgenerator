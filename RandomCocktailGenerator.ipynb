{
 "cells": [
  {
   "cell_type": "code",
   "execution_count": 1,
   "metadata": {},
   "outputs": [
    {
     "name": "stdout",
     "output_type": "stream",
     "text": [
      "Uns bleiben 227 Rezepte mit diesen Zutaten:\n",
      "[u'151 proof rum' u'absolut citron' u'amaretto' u'angostura bitters'\n",
      " u'apricot brandy' u\"bailey's irish cream\" u'benedictine' u'bitters'\n",
      " u'blended whiskey' u'blue curacao' u'bourbon' u'brandy'\n",
      " u'carbonated water' u'champagne' u'cherry' u'cherry brandy' u'club soda'\n",
      " u'coca-cola' u'coffee' u'cognac' u'cointreau' u'cranberry juice' u'cream'\n",
      " u'creme de cacao' u'creme de cassis' u'dark rum' u'dry vermouth' u'egg'\n",
      " u'egg white' u'galliano' u'gin' u'ginger ale' u'grand marnier'\n",
      " u'grapefruit juice' u'grenadine' u'ice' u'kahlua' u'lemon' u'lemon juice'\n",
      " u'lemon peel' u'lemon-lime soda' u'lemonade' u'light cream' u'light rum'\n",
      " u'lime' u'lime juice' u'maraschino cherry' u'maraschino liqueur' u'milk'\n",
      " u'mint' u'nutmeg' u'orange' u'orange bitters' u'orange juice'\n",
      " u'peach schnapps' u'pineapple juice' u'port' u'powdered sugar'\n",
      " u'red wine' u'rum' u'sambuca' u'scotch' u'sherry' u'sloe gin'\n",
      " u'soda water' u'sour mix' u'southern comfort' u'sugar' u'sugar syrup'\n",
      " u'sweet and sour' u'sweet vermouth' u'tequila' u'tonic water'\n",
      " u'triple sec' u'vodka' u'water' u'white creme de menthe' u'wild turkey'\n",
      " u'wine']\n"
     ]
    }
   ],
   "source": [
    "%run first_analysis.py"
   ]
  },
  {
   "cell_type": "code",
   "execution_count": 5,
   "metadata": {},
   "outputs": [],
   "source": [
    "from sklearn.manifold import LocallyLinearEmbedding, MDS, TSNE\n",
    "\n",
    "masked_recipes = mask_cocktails(reduced_ingredients[-20], ingredients_vector)\n",
    "selected_recipes = np.logical_not(masked_recipes.mask.all(axis=1))\n",
    "recipe_names = drinks['strDrink'].iloc[selected_recipes].values"
   ]
  },
  {
   "cell_type": "code",
   "execution_count": 6,
   "metadata": {},
   "outputs": [],
   "source": [
    "tsne = TSNE(n_components=2, init='pca')\n",
    "comps = tsne.fit_transform(masked_recipes[~masked_recipes.mask.all(axis=1)][:,~masked_recipes.mask.all(axis=0)])"
   ]
  },
  {
   "cell_type": "code",
   "execution_count": 7,
   "metadata": {},
   "outputs": [
    {
     "name": "stderr",
     "output_type": "stream",
     "text": [
      "/home/mboos/anaconda/lib/python2.7/site-packages/bokeh/models/sources.py:110: BokehUserWarning: ColumnDataSource's columns must be of the same length. Current lengths: ('desc', 35), ('ingredients', 546), ('x', 35), ('y', 35)\n",
      "  \"Current lengths: %s\" % \", \".join(sorted(str((k, len(v))) for k, v in data.items())), BokehUserWarning))\n"
     ]
    }
   ],
   "source": [
    "import bokeh.plotting as bpl\n",
    "\n",
    "bpl.output_file(\"drinksss.html\")\n",
    "\n",
    "source = bpl.ColumnDataSource(data=dict(\n",
    "    x=comps[:,0],\n",
    "    y=comps[:,1],\n",
    "    desc=recipe_names,\n",
    "    ingredients=['<br/>'.join(mlb.classes_[np.where(rec)]) for rec in masked_recipes]\n",
    "))\n",
    "\n",
    "TOOLTIPS = [\n",
    "#    (\"index\", \"$index\"),\n",
    "#    (\"(x,y)\", \"($x, $y)\"),\n",
    "    (\"Cocktail\", \"@desc\"),\n",
    "    (\"Ingredients\", \"@ingredients{safe}\")\n",
    "]\n",
    "p = bpl.figure(tools=\"reset,pan,wheel_zoom\", tooltips=TOOLTIPS,\n",
    "           title=\"Mouse over the dots\")\n",
    "\n",
    "p.scatter('x', 'y', marker='o', size=10, source=source)\n",
    "bpl.show(p)"
   ]
  }
 ],
 "metadata": {
  "kernelspec": {
   "display_name": "Python 2",
   "language": "python",
   "name": "python2"
  },
  "language_info": {
   "codemirror_mode": {
    "name": "ipython",
    "version": 2
   },
   "file_extension": ".py",
   "mimetype": "text/x-python",
   "name": "python",
   "nbconvert_exporter": "python",
   "pygments_lexer": "ipython2",
   "version": "2.7.12"
  }
 },
 "nbformat": 4,
 "nbformat_minor": 2
}
